{
 "cells": [
  {
   "cell_type": "code",
   "execution_count": 12,
   "id": "f63d1f80-4045-4122-855d-48710765cc75",
   "metadata": {},
   "outputs": [],
   "source": [
    "import json\n",
    "import urllib3"
   ]
  },
  {
   "cell_type": "code",
   "execution_count": 2,
   "id": "38c00fca-8860-436d-b54a-2aa0fee8e92d",
   "metadata": {},
   "outputs": [],
   "source": [
    "http = urllib3.PoolManager()"
   ]
  },
  {
   "cell_type": "code",
   "execution_count": 4,
   "id": "407de4a6-e30f-451d-9bb6-09270a6ea2a4",
   "metadata": {},
   "outputs": [],
   "source": [
    "data = {\"review\": \"membantu banget buat IRT yang punya baby ,jdi ga perlu ribet belanja keluar,bisa pake aplikasi sayurbox ini,,recomended bangettt..\"}"
   ]
  },
  {
   "cell_type": "code",
   "execution_count": 30,
   "id": "011a5710-9f5d-4998-a49e-8676433bc44b",
   "metadata": {},
   "outputs": [],
   "source": [
    "def call_api():\n",
    "    \n",
    "    res = http.request('POST', 'https://simplehello.fly.dev/predict', \n",
    "                       headers={'Content-Type': 'application/json'}, \n",
    "                       body=json.dumps(data))"
   ]
  },
  {
   "cell_type": "code",
   "execution_count": 31,
   "id": "d2eaabe1-0c18-42ae-9710-bc252b490857",
   "metadata": {},
   "outputs": [],
   "source": [
    "res = http.request('POST', 'https://simplehello.fly.dev/predict', \n",
    "                       headers={'Content-Type': 'application/json'}, \n",
    "                       body=json.dumps(data))"
   ]
  },
  {
   "cell_type": "code",
   "execution_count": 28,
   "id": "8e94979d-b9d3-4dcc-bba8-0eb487faf3bd",
   "metadata": {},
   "outputs": [],
   "source": [
    "call_api()"
   ]
  },
  {
   "cell_type": "code",
   "execution_count": 32,
   "id": "0fda92c4-ad9e-4735-bc3a-778426176b82",
   "metadata": {},
   "outputs": [
    {
     "data": {
      "text/plain": [
       "200"
      ]
     },
     "execution_count": 32,
     "metadata": {},
     "output_type": "execute_result"
    }
   ],
   "source": [
    "res.status"
   ]
  },
  {
   "cell_type": "code",
   "execution_count": 20,
   "id": "2c3d7722-1448-49bf-bb71-2e91a2d8fb17",
   "metadata": {},
   "outputs": [
    {
     "data": {
      "text/plain": [
       "{'label': 'pos'}"
      ]
     },
     "execution_count": 20,
     "metadata": {},
     "output_type": "execute_result"
    }
   ],
   "source": [
    "json.loads(res.data)"
   ]
  },
  {
   "cell_type": "code",
   "execution_count": null,
   "id": "a3dd2000-c48d-4f62-9928-23037a807d77",
   "metadata": {},
   "outputs": [],
   "source": []
  }
 ],
 "metadata": {
  "kernelspec": {
   "display_name": "Python 3 (ipykernel)",
   "language": "python",
   "name": "python3"
  },
  "language_info": {
   "codemirror_mode": {
    "name": "ipython",
    "version": 3
   },
   "file_extension": ".py",
   "mimetype": "text/x-python",
   "name": "python",
   "nbconvert_exporter": "python",
   "pygments_lexer": "ipython3",
   "version": "3.9.1"
  }
 },
 "nbformat": 4,
 "nbformat_minor": 5
}
